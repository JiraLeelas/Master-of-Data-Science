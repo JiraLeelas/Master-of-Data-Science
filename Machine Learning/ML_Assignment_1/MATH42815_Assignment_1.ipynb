{
 "cells": [
  {
   "cell_type": "markdown",
   "metadata": {
    "id": "w7AH4Cr3plCU"
   },
   "source": [
    "### **Assignment 1 Notebook**\n",
    "\n",
    "This is the supporting Jupyter Notebook for Assignment 1. Here we will use the King County (USA) *House Data* dataset available via [Kaggle](https://www.kaggle.com/datasets/shivachandel/kc-house-data) .\n",
    "\n",
    "The original dataset contains 21 variables and 21613 observations. We will use 11 of those variables and our aim is to model house prices.\n",
    "\n"
   ]
  },
  {
   "cell_type": "code",
   "execution_count": 2,
   "metadata": {
    "id": "XAfXD9UIJeUB"
   },
   "outputs": [],
   "source": [
    "file = \"kc_house_data.csv\"\n",
    "HouseData = read.csv(file,header=TRUE)"
   ]
  },
  {
   "cell_type": "code",
   "execution_count": 3,
   "metadata": {
    "colab": {
     "base_uri": "https://localhost:8080/",
     "height": 52
    },
    "id": "iMZ68saKplCV",
    "outputId": "b46c6be7-a3bc-4b49-fa8b-a1b0a4101fb4"
   },
   "outputs": [
    {
     "data": {
      "text/html": [
       "<style>\n",
       ".list-inline {list-style: none; margin:0; padding: 0}\n",
       ".list-inline>li {display: inline-block}\n",
       ".list-inline>li:not(:last-child)::after {content: \"\\00b7\"; padding: 0 .5ex}\n",
       "</style>\n",
       "<ol class=list-inline><li>21613</li><li>11</li></ol>\n"
      ],
      "text/latex": [
       "\\begin{enumerate*}\n",
       "\\item 21613\n",
       "\\item 11\n",
       "\\end{enumerate*}\n"
      ],
      "text/markdown": [
       "1. 21613\n",
       "2. 11\n",
       "\n",
       "\n"
      ],
      "text/plain": [
       "[1] 21613    11"
      ]
     },
     "metadata": {},
     "output_type": "display_data"
    },
    {
     "data": {
      "text/html": [
       "<style>\n",
       ".list-inline {list-style: none; margin:0; padding: 0}\n",
       ".list-inline>li {display: inline-block}\n",
       ".list-inline>li:not(:last-child)::after {content: \"\\00b7\"; padding: 0 .5ex}\n",
       "</style>\n",
       "<ol class=list-inline><li>'id'</li><li>'price'</li><li>'bedrooms'</li><li>'bathrooms'</li><li>'sqft_living'</li><li>'sqft_lot'</li><li>'floors'</li><li>'yr_built'</li><li>'zipcode'</li><li>'lat'</li><li>'long'</li></ol>\n"
      ],
      "text/latex": [
       "\\begin{enumerate*}\n",
       "\\item 'id'\n",
       "\\item 'price'\n",
       "\\item 'bedrooms'\n",
       "\\item 'bathrooms'\n",
       "\\item 'sqft\\_living'\n",
       "\\item 'sqft\\_lot'\n",
       "\\item 'floors'\n",
       "\\item 'yr\\_built'\n",
       "\\item 'zipcode'\n",
       "\\item 'lat'\n",
       "\\item 'long'\n",
       "\\end{enumerate*}\n"
      ],
      "text/markdown": [
       "1. 'id'\n",
       "2. 'price'\n",
       "3. 'bedrooms'\n",
       "4. 'bathrooms'\n",
       "5. 'sqft_living'\n",
       "6. 'sqft_lot'\n",
       "7. 'floors'\n",
       "8. 'yr_built'\n",
       "9. 'zipcode'\n",
       "10. 'lat'\n",
       "11. 'long'\n",
       "\n",
       "\n"
      ],
      "text/plain": [
       " [1] \"id\"          \"price\"       \"bedrooms\"    \"bathrooms\"   \"sqft_living\"\n",
       " [6] \"sqft_lot\"    \"floors\"      \"yr_built\"    \"zipcode\"     \"lat\"        \n",
       "[11] \"long\"       "
      ]
     },
     "metadata": {},
     "output_type": "display_data"
    }
   ],
   "source": [
    "HouseData =  subset(HouseData, select = c(id, price, bedrooms, bathrooms,\n",
    "                    sqft_living, sqft_lot, floors,\n",
    "                    yr_built, zipcode, lat, long))\n",
    "dim(HouseData) #this should return 21613, 11\n",
    "names(HouseData) #this should return id, price, bedrooms, bathrooms, sqft_living, sqft_lot, floors, yr_built, zipcode, lat, lon"
   ]
  },
  {
   "cell_type": "code",
   "execution_count": 4,
   "metadata": {
    "colab": {
     "base_uri": "https://localhost:8080/",
     "height": 286
    },
    "id": "c2hRnEp4plCX",
    "outputId": "0f0cc9ad-63b1-40af-aa38-630078b7df95"
   },
   "outputs": [
    {
     "data": {
      "text/html": [
       "<table class=\"dataframe\">\n",
       "<caption>A data.frame: 6 × 11</caption>\n",
       "<thead>\n",
       "\t<tr><th></th><th scope=col>id</th><th scope=col>price</th><th scope=col>bedrooms</th><th scope=col>bathrooms</th><th scope=col>sqft_living</th><th scope=col>sqft_lot</th><th scope=col>floors</th><th scope=col>yr_built</th><th scope=col>zipcode</th><th scope=col>lat</th><th scope=col>long</th></tr>\n",
       "\t<tr><th></th><th scope=col>&lt;dbl&gt;</th><th scope=col>&lt;dbl&gt;</th><th scope=col>&lt;int&gt;</th><th scope=col>&lt;dbl&gt;</th><th scope=col>&lt;int&gt;</th><th scope=col>&lt;int&gt;</th><th scope=col>&lt;dbl&gt;</th><th scope=col>&lt;int&gt;</th><th scope=col>&lt;int&gt;</th><th scope=col>&lt;dbl&gt;</th><th scope=col>&lt;dbl&gt;</th></tr>\n",
       "</thead>\n",
       "<tbody>\n",
       "\t<tr><th scope=row>1</th><td>7129300520</td><td> 221900</td><td>3</td><td>1.00</td><td>1180</td><td>  5650</td><td>1</td><td>1955</td><td>98178</td><td>47.5112</td><td>-122.257</td></tr>\n",
       "\t<tr><th scope=row>2</th><td>6414100192</td><td> 538000</td><td>3</td><td>2.25</td><td>2570</td><td>  7242</td><td>2</td><td>1951</td><td>98125</td><td>47.7210</td><td>-122.319</td></tr>\n",
       "\t<tr><th scope=row>3</th><td>5631500400</td><td> 180000</td><td>2</td><td>1.00</td><td> 770</td><td> 10000</td><td>1</td><td>1933</td><td>98028</td><td>47.7379</td><td>-122.233</td></tr>\n",
       "\t<tr><th scope=row>4</th><td>2487200875</td><td> 604000</td><td>4</td><td>3.00</td><td>1960</td><td>  5000</td><td>1</td><td>1965</td><td>98136</td><td>47.5208</td><td>-122.393</td></tr>\n",
       "\t<tr><th scope=row>5</th><td>1954400510</td><td> 510000</td><td>3</td><td>2.00</td><td>1680</td><td>  8080</td><td>1</td><td>1987</td><td>98074</td><td>47.6168</td><td>-122.045</td></tr>\n",
       "\t<tr><th scope=row>6</th><td>7237550310</td><td>1225000</td><td>4</td><td>4.50</td><td>5420</td><td>101930</td><td>1</td><td>2001</td><td>98053</td><td>47.6561</td><td>-122.005</td></tr>\n",
       "</tbody>\n",
       "</table>\n"
      ],
      "text/latex": [
       "A data.frame: 6 × 11\n",
       "\\begin{tabular}{r|lllllllllll}\n",
       "  & id & price & bedrooms & bathrooms & sqft\\_living & sqft\\_lot & floors & yr\\_built & zipcode & lat & long\\\\\n",
       "  & <dbl> & <dbl> & <int> & <dbl> & <int> & <int> & <dbl> & <int> & <int> & <dbl> & <dbl>\\\\\n",
       "\\hline\n",
       "\t1 & 7129300520 &  221900 & 3 & 1.00 & 1180 &   5650 & 1 & 1955 & 98178 & 47.5112 & -122.257\\\\\n",
       "\t2 & 6414100192 &  538000 & 3 & 2.25 & 2570 &   7242 & 2 & 1951 & 98125 & 47.7210 & -122.319\\\\\n",
       "\t3 & 5631500400 &  180000 & 2 & 1.00 &  770 &  10000 & 1 & 1933 & 98028 & 47.7379 & -122.233\\\\\n",
       "\t4 & 2487200875 &  604000 & 4 & 3.00 & 1960 &   5000 & 1 & 1965 & 98136 & 47.5208 & -122.393\\\\\n",
       "\t5 & 1954400510 &  510000 & 3 & 2.00 & 1680 &   8080 & 1 & 1987 & 98074 & 47.6168 & -122.045\\\\\n",
       "\t6 & 7237550310 & 1225000 & 4 & 4.50 & 5420 & 101930 & 1 & 2001 & 98053 & 47.6561 & -122.005\\\\\n",
       "\\end{tabular}\n"
      ],
      "text/markdown": [
       "\n",
       "A data.frame: 6 × 11\n",
       "\n",
       "| <!--/--> | id &lt;dbl&gt; | price &lt;dbl&gt; | bedrooms &lt;int&gt; | bathrooms &lt;dbl&gt; | sqft_living &lt;int&gt; | sqft_lot &lt;int&gt; | floors &lt;dbl&gt; | yr_built &lt;int&gt; | zipcode &lt;int&gt; | lat &lt;dbl&gt; | long &lt;dbl&gt; |\n",
       "|---|---|---|---|---|---|---|---|---|---|---|---|\n",
       "| 1 | 7129300520 |  221900 | 3 | 1.00 | 1180 |   5650 | 1 | 1955 | 98178 | 47.5112 | -122.257 |\n",
       "| 2 | 6414100192 |  538000 | 3 | 2.25 | 2570 |   7242 | 2 | 1951 | 98125 | 47.7210 | -122.319 |\n",
       "| 3 | 5631500400 |  180000 | 2 | 1.00 |  770 |  10000 | 1 | 1933 | 98028 | 47.7379 | -122.233 |\n",
       "| 4 | 2487200875 |  604000 | 4 | 3.00 | 1960 |   5000 | 1 | 1965 | 98136 | 47.5208 | -122.393 |\n",
       "| 5 | 1954400510 |  510000 | 3 | 2.00 | 1680 |   8080 | 1 | 1987 | 98074 | 47.6168 | -122.045 |\n",
       "| 6 | 7237550310 | 1225000 | 4 | 4.50 | 5420 | 101930 | 1 | 2001 | 98053 | 47.6561 | -122.005 |\n",
       "\n"
      ],
      "text/plain": [
       "  id         price   bedrooms bathrooms sqft_living sqft_lot floors yr_built\n",
       "1 7129300520  221900 3        1.00      1180          5650   1      1955    \n",
       "2 6414100192  538000 3        2.25      2570          7242   2      1951    \n",
       "3 5631500400  180000 2        1.00       770         10000   1      1933    \n",
       "4 2487200875  604000 4        3.00      1960          5000   1      1965    \n",
       "5 1954400510  510000 3        2.00      1680          8080   1      1987    \n",
       "6 7237550310 1225000 4        4.50      5420        101930   1      2001    \n",
       "  zipcode lat     long    \n",
       "1 98178   47.5112 -122.257\n",
       "2 98125   47.7210 -122.319\n",
       "3 98028   47.7379 -122.233\n",
       "4 98136   47.5208 -122.393\n",
       "5 98074   47.6168 -122.045\n",
       "6 98053   47.6561 -122.005"
      ]
     },
     "metadata": {},
     "output_type": "display_data"
    }
   ],
   "source": [
    "head(HouseData)"
   ]
  },
  {
   "cell_type": "markdown",
   "metadata": {
    "id": "VJLZ71cuCC-h"
   },
   "source": [
    "Using an appropriate function from the **leaps** library, perform forward subset selection to find a suitable set of variables to estimate house prices. Uncomment the second line in this block and replace **NULL** with the function call you have written."
   ]
  },
  {
   "cell_type": "code",
   "execution_count": 6,
   "metadata": {
    "colab": {
     "base_uri": "https://localhost:8080/",
     "height": 694
    },
    "id": "yPA_cDyvaEN-",
    "outputId": "6d8c106b-379d-40cc-fc23-78d42eac56f1"
   },
   "outputs": [
    {
     "data": {
      "text/plain": [
       "Subset selection object\n",
       "Call: regsubsets.formula(price ~ ., data = HouseData, method = \"forward\", \n",
       "    nvmax = 10)\n",
       "10 Variables  (and intercept)\n",
       "            Forced in Forced out\n",
       "id              FALSE      FALSE\n",
       "bedrooms        FALSE      FALSE\n",
       "bathrooms       FALSE      FALSE\n",
       "sqft_living     FALSE      FALSE\n",
       "sqft_lot        FALSE      FALSE\n",
       "floors          FALSE      FALSE\n",
       "yr_built        FALSE      FALSE\n",
       "zipcode         FALSE      FALSE\n",
       "lat             FALSE      FALSE\n",
       "long            FALSE      FALSE\n",
       "1 subsets of each size up to 10\n",
       "Selection Algorithm: forward\n",
       "          id  bedrooms bathrooms sqft_living sqft_lot floors yr_built zipcode\n",
       "1  ( 1 )  \" \" \" \"      \" \"       \"*\"         \" \"      \" \"    \" \"      \" \"    \n",
       "2  ( 1 )  \" \" \" \"      \" \"       \"*\"         \" \"      \" \"    \" \"      \" \"    \n",
       "3  ( 1 )  \" \" \" \"      \" \"       \"*\"         \" \"      \" \"    \"*\"      \" \"    \n",
       "4  ( 1 )  \" \" \"*\"      \" \"       \"*\"         \" \"      \" \"    \"*\"      \" \"    \n",
       "5  ( 1 )  \" \" \"*\"      \"*\"       \"*\"         \" \"      \" \"    \"*\"      \" \"    \n",
       "6  ( 1 )  \" \" \"*\"      \"*\"       \"*\"         \" \"      \" \"    \"*\"      \" \"    \n",
       "7  ( 1 )  \" \" \"*\"      \"*\"       \"*\"         \" \"      \" \"    \"*\"      \"*\"    \n",
       "8  ( 1 )  \" \" \"*\"      \"*\"       \"*\"         \" \"      \"*\"    \"*\"      \"*\"    \n",
       "9  ( 1 )  \"*\" \"*\"      \"*\"       \"*\"         \" \"      \"*\"    \"*\"      \"*\"    \n",
       "10  ( 1 ) \"*\" \"*\"      \"*\"       \"*\"         \"*\"      \"*\"    \"*\"      \"*\"    \n",
       "          lat long\n",
       "1  ( 1 )  \" \" \" \" \n",
       "2  ( 1 )  \"*\" \" \" \n",
       "3  ( 1 )  \"*\" \" \" \n",
       "4  ( 1 )  \"*\" \" \" \n",
       "5  ( 1 )  \"*\" \" \" \n",
       "6  ( 1 )  \"*\" \"*\" \n",
       "7  ( 1 )  \"*\" \"*\" \n",
       "8  ( 1 )  \"*\" \"*\" \n",
       "9  ( 1 )  \"*\" \"*\" \n",
       "10  ( 1 ) \"*\" \"*\" "
      ]
     },
     "metadata": {},
     "output_type": "display_data"
    }
   ],
   "source": [
    "library(leaps)\n",
    "#best_forward = NULL #Replace this with the relevant function call\n",
    "summary(best_forward) #print the summary for the best_forward output"
   ]
  },
  {
   "cell_type": "code",
   "execution_count": 7,
   "metadata": {
    "colab": {
     "base_uri": "https://localhost:8080/"
    },
    "id": "qEta16R1KX-U",
    "outputId": "49238533-b6cb-4777-8145-c7f07d230fc9"
   },
   "outputs": [
    {
     "name": "stdout",
     "output_type": "stream",
     "text": [
      " (Intercept)     bedrooms    bathrooms  sqft_living       floors     yr_built \n",
      "4670008.8223  -62257.3375   55882.7496     296.5165   37722.8361   -2456.7629 \n",
      "     zipcode          lat         long \n",
      "   -671.6835  643749.1855 -289586.8936 \n"
     ]
    }
   ],
   "source": [
    "forward_summary = summary(best_forward) #save the summary to forward_summary\n",
    "forward_adjr2 = which.max(forward_summary$adjr2) #choose the model with the maximum adjusted R2\n",
    "print(coef(best_forward,forward_adjr2)) #print the coefficients for the model with the highest adj R2"
   ]
  },
  {
   "cell_type": "code",
   "execution_count": 8,
   "metadata": {
    "colab": {
     "base_uri": "https://localhost:8080/",
     "height": 437
    },
    "id": "znaXxiIfHppl",
    "outputId": "fe8e20b8-06f6-4916-f441-69b90555cfd7"
   },
   "outputs": [
    {
     "data": {
      "image/png": "[encoded data removed]",
      "text/plain": [
       "plot without title"
      ]
     },
     "metadata": {
      "image/png": {
       "height": 420,
       "width": 420
      }
     },
     "output_type": "display_data"
    }
   ],
   "source": [
    "par(mfrow = c(1,3)) #allows for 3 plots to be plotted side by side\n",
    "\n",
    "plot(forward_summary$cp,\n",
    "     xlab = \"# Predictors\", #x-axis label\n",
    "     ylab = \"Cp\", #y-axis label\n",
    "     type = \"l\", #line plot\n",
    "     lwd = 2) #line thickness\n",
    "\n",
    "cp_min = which.min(forward_summary$cp)\n",
    "\n",
    "#overlay the minimum of cp on the previous plot using the points function\n",
    "points(cp_min,\n",
    "       forward_summary$cp[cp_min],\n",
    "       pch = 4, #cross symbol used\n",
    "       col = 2, #red colour\n",
    "       cex = 4, #make it bigger!\n",
    "       lwd = 2) #make the cross lines thicker\n",
    "\n",
    "# ADD CODE HERE TO PLOT BIC AND ADJUSTED R^2"
   ]
  },
  {
   "cell_type": "code",
   "execution_count": null,
   "metadata": {},
   "outputs": [],
   "source": []
  }
 ],
 "metadata": {
  "colab": {
   "provenance": []
  },
  "kernelspec": {
   "display_name": "R 4.4.0",
   "language": "R",
   "name": "ir4.0.3"
  },
  "language_info": {
   "codemirror_mode": "r",
   "file_extension": ".r",
   "mimetype": "text/x-r-source",
   "name": "R",
   "pygments_lexer": "r",
   "version": "4.4.0"
  }
 },
 "nbformat": 4,
 "nbformat_minor": 1
}
